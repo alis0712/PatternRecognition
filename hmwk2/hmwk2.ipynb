{
 "cells": [
  {
   "cell_type": "markdown",
   "metadata": {},
   "source": [
    "# Monte-Carlo Estimation for Problem 1a Assignment 2"
   ]
  },
  {
   "cell_type": "code",
   "execution_count": 10,
   "metadata": {},
   "outputs": [],
   "source": [
    "from scipy import random\n",
    "import numpy as np"
   ]
  },
  {
   "cell_type": "markdown",
   "metadata": {},
   "source": [
    "# (i) exp(-x)"
   ]
  },
  {
   "cell_type": "code",
   "execution_count": 11,
   "metadata": {},
   "outputs": [
    {
     "name": "stdout",
     "output_type": "stream",
     "text": [
      "the integral from 0 to 1 of exp(-x) is 0.6376685156211883\n"
     ]
    }
   ],
   "source": [
    "a = 0\n",
    "b = 1\n",
    "N = 1000\n",
    "xrand = np.zeros(N)\n",
    "\n",
    "for i in range(len(xrand)):\n",
    "    xrand[i] = random.uniform(a,b)\n",
    "\n",
    "def func(x):\n",
    "    return np.exp(-x)\n",
    "\n",
    "integral = 0.0\n",
    "\n",
    "for i in range(N):\n",
    "    integral += func(xrand[i])\n",
    "    \n",
    "answer = (b-a)/float(N)*integral\n",
    "print(\"the integral from 0 to 1 of exp(-x) is\", answer)"
   ]
  },
  {
   "cell_type": "markdown",
   "metadata": {},
   "source": [
    "# (ii) (1-x^2)^2"
   ]
  },
  {
   "cell_type": "code",
   "execution_count": 7,
   "metadata": {},
   "outputs": [
    {
     "name": "stdout",
     "output_type": "stream",
     "text": [
      "the integral from 0 to 5 of (1-x^2)^2 is 556.3822219373099\n"
     ]
    }
   ],
   "source": [
    "a = 0\n",
    "b = 5\n",
    "N = 1000\n",
    "xrand = np.zeros(N)\n",
    "\n",
    "for i in range(len(xrand)):\n",
    "    xrand[i] = random.uniform(a,b)\n",
    "\n",
    "def func(x):\n",
    "    return (1-x**2)**2\n",
    "\n",
    "integral = 0.0\n",
    "\n",
    "for i in range(N):\n",
    "    integral += func(xrand[i])\n",
    "    \n",
    "answer = (b-a)/float(N)*integral\n",
    "print(\"the integral from 0 to 5 of (1-x^2)^2 is\", answer)"
   ]
  },
  {
   "cell_type": "markdown",
   "metadata": {},
   "source": [
    "# Monte-Carlo Estimation for Problem 2 a"
   ]
  },
  {
   "cell_type": "code",
   "execution_count": 37,
   "metadata": {},
   "outputs": [],
   "source": [
    "import numpy as np"
   ]
  },
  {
   "cell_type": "markdown",
   "metadata": {},
   "source": [
    "# test with a given number of points and throw randomly in minimal bounding rectangle"
   ]
  },
  {
   "cell_type": "code",
   "execution_count": 38,
   "metadata": {},
   "outputs": [],
   "source": [
    "r = np.random.rand()\n",
    "#y = np.exp(-0.5*((x-mu)/sigma)^2)\n",
    "n1 = 0\n",
    "n = 100000\n",
    "sig = 1\n",
    "xmax = 4 * sig\n",
    "xmin = 0\n",
    "ymin = 0\n",
    "ymax = 1.0\n",
    "a = xmax * ymax"
   ]
  },
  {
   "cell_type": "markdown",
   "metadata": {},
   "source": [
    "# fill the points in the rectangle and count those folling inside the curve and compute the ratio of the points inside to total"
   ]
  },
  {
   "cell_type": "code",
   "execution_count": 39,
   "metadata": {},
   "outputs": [],
   "source": [
    "for i in range(n):\n",
    "    x = np.random.rand()*(xmax - xmin)\n",
    "    y = np.exp(-0.5*x*x/sig/sig)\n",
    "    y1 = np.random.rand()*(ymax - ymin)\n",
    "    if y1 < y:\n",
    "        n1 = n1 + 1"
   ]
  },
  {
   "cell_type": "code",
   "execution_count": 40,
   "metadata": {},
   "outputs": [
    {
     "name": "stdout",
     "output_type": "stream",
     "text": [
      "monte carlo =  2.5232 , theoretical area =  2.5066282746310002\n"
     ]
    }
   ],
   "source": [
    "a1 = n1*a/n\n",
    "ar = np.sqrt(2*np.pi)*sig\n",
    "print(\"monte carlo = \", 2*a1,\", theoretical area = \", ar )"
   ]
  },
  {
   "cell_type": "markdown",
   "metadata": {},
   "source": [
    "# Monte-Carlo Estimation for Problem 2 b"
   ]
  },
  {
   "cell_type": "code",
   "execution_count": 41,
   "metadata": {},
   "outputs": [],
   "source": [
    "import numpy as np"
   ]
  },
  {
   "cell_type": "markdown",
   "metadata": {},
   "source": [
    "# test with a given number of points and throw randomly in minimal bounding rectangle"
   ]
  },
  {
   "cell_type": "code",
   "execution_count": 42,
   "metadata": {},
   "outputs": [],
   "source": [
    "r = np.random.rand()\n",
    "#y = np.exp(-0.5*((x-mu)/sigma)^2)\n",
    "n1 = 0\n",
    "n = 100000\n",
    "mue = 10\n",
    "sig = 4\n",
    "xmax = 4 * sig\n",
    "xmin = 0\n",
    "ymin = 0\n",
    "ymax = 1.0\n",
    "a = xmax * ymax"
   ]
  },
  {
   "cell_type": "markdown",
   "metadata": {},
   "source": [
    "# fill the points in the rectangle and count those folling inside the curve and compute the ratio of the points inside to total"
   ]
  },
  {
   "cell_type": "code",
   "execution_count": 43,
   "metadata": {},
   "outputs": [],
   "source": [
    "for i in range(n):\n",
    "    x = np.random.rand()*(xmax - xmin)\n",
    "    y = np.exp(-0.5*(x*x-mue*mue)/sig/sig)\n",
    "    y1 = np.random.rand()*(ymax - ymin)\n",
    "    if y1 < y:\n",
    "        n1 = n1 + 1"
   ]
  },
  {
   "cell_type": "code",
   "execution_count": 44,
   "metadata": {},
   "outputs": [
    {
     "name": "stdout",
     "output_type": "stream",
     "text": [
      "monte carlo =  22.80736 , theoretical area =  22.75989509352673\n"
     ]
    }
   ],
   "source": [
    "a1 = n1*a/n\n",
    "ar = np.exp(-0.5*(-mue*mue)/sig/sig)\n",
    "print(\"monte carlo = \", 2*a1,\", theoretical area = \", ar )"
   ]
  }
 ],
 "metadata": {
  "kernelspec": {
   "display_name": "Python 3",
   "language": "python",
   "name": "python3"
  },
  "language_info": {
   "codemirror_mode": {
    "name": "ipython",
    "version": 3
   },
   "file_extension": ".py",
   "mimetype": "text/x-python",
   "name": "python",
   "nbconvert_exporter": "python",
   "pygments_lexer": "ipython3",
   "version": "3.8.5"
  }
 },
 "nbformat": 4,
 "nbformat_minor": 4
}
