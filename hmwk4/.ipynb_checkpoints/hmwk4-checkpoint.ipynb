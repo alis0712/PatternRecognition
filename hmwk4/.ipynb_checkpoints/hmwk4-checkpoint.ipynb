{
 "cells": [
  {
   "cell_type": "markdown",
   "metadata": {},
   "source": [
    "# Syed Ali HMWK4 Problem 1 c and d\n"
   ]
  },
  {
   "cell_type": "code",
   "execution_count": 1,
   "metadata": {},
   "outputs": [],
   "source": [
    "import numpy as np\n",
    "import scipy.linalg as la\n",
    "import matplotlib.pyplot as plt\n"
   ]
  },
  {
   "cell_type": "markdown",
   "metadata": {},
   "source": [
    "# Initialize a covariance matrix for a three dimensional data\n"
   ]
  },
  {
   "cell_type": "code",
   "execution_count": 2,
   "metadata": {},
   "outputs": [
    {
     "name": "stdout",
     "output_type": "stream",
     "text": [
      "[[3 2 0]\n",
      " [2 4 1]\n",
      " [0 1 3]]\n"
     ]
    }
   ],
   "source": [
    "X = np.array([[3,2,0],[2,4,1],[0,1,3]])\n",
    "print(X)"
   ]
  },
  {
   "cell_type": "markdown",
   "metadata": {},
   "source": [
    "# find eigenvalues and eigenvectors using numpy.linalg"
   ]
  },
  {
   "cell_type": "code",
   "execution_count": 3,
   "metadata": {},
   "outputs": [
    {
     "name": "stdout",
     "output_type": "stream",
     "text": [
      "[5.79128785+0.j 1.20871215+0.j 3.        +0.j]\n"
     ]
    }
   ],
   "source": [
    "eg, egv = la.eig(X)\n",
    "print(eg)"
   ]
  },
  {
   "cell_type": "code",
   "execution_count": 4,
   "metadata": {},
   "outputs": [
    {
     "name": "stdout",
     "output_type": "stream",
     "text": [
      "(5.791287847477921+0j)\n"
     ]
    }
   ],
   "source": [
    "print(eg[0])"
   ]
  },
  {
   "cell_type": "code",
   "execution_count": 5,
   "metadata": {},
   "outputs": [
    {
     "name": "stdout",
     "output_type": "stream",
     "text": [
      "[-0.55920734  0.69805956 -0.4472136 ]\n",
      "[-7.80454320e-01 -6.25212808e-01  8.06936742e-17]\n",
      "[-0.27960367  0.34902978  0.89442719]\n"
     ]
    }
   ],
   "source": [
    "print(egv[0])\n",
    "print(egv[1])\n",
    "print(egv[2])"
   ]
  },
  {
   "cell_type": "markdown",
   "metadata": {},
   "source": [
    "# Distance between two vectors"
   ]
  },
  {
   "cell_type": "code",
   "execution_count": 6,
   "metadata": {},
   "outputs": [],
   "source": [
    "y1 = np.array([1,2,1])\n",
    "y2 = np.array([2,1,3])"
   ]
  },
  {
   "cell_type": "code",
   "execution_count": 7,
   "metadata": {},
   "outputs": [
    {
     "name": "stdout",
     "output_type": "stream",
     "text": [
      "2.449489742783178\n"
     ]
    }
   ],
   "source": [
    "d1 = la.norm(y1-y2)\n",
    "print(d1)"
   ]
  },
  {
   "cell_type": "markdown",
   "metadata": {},
   "source": [
    "# Let us project y1 and y2 on eigenvectors"
   ]
  },
  {
   "cell_type": "code",
   "execution_count": 8,
   "metadata": {},
   "outputs": [
    {
     "name": "stdout",
     "output_type": "stream",
     "text": [
      "[ 0.3896982  -2.03087994  1.31288309]\n",
      "[-1.76199589 -2.18612145  2.47310402]\n"
     ]
    }
   ],
   "source": [
    "y1p = np.dot(egv,y1)\n",
    "y2p = np.dot(egv,y2)\n",
    "print(y1p)\n",
    "print(y2p)"
   ]
  },
  {
   "cell_type": "markdown",
   "metadata": {},
   "source": [
    "# Distance between the two vectors in the projected space"
   ]
  },
  {
   "cell_type": "code",
   "execution_count": 9,
   "metadata": {},
   "outputs": [
    {
     "name": "stdout",
     "output_type": "stream",
     "text": [
      "2.4494897427831774\n"
     ]
    }
   ],
   "source": [
    "d2 = la.norm(y1p-y2p)\n",
    "print(d2)"
   ]
  },
  {
   "cell_type": "markdown",
   "metadata": {},
   "source": [
    "# Based on this we can see that the transformation of space R^3 and R^3 is distance preserving"
   ]
  },
  {
   "cell_type": "markdown",
   "metadata": {},
   "source": [
    "# Now let us ignore the eigenvalues with the least magnitude which is egv[1]. We will set this row to zero"
   ]
  },
  {
   "cell_type": "code",
   "execution_count": 10,
   "metadata": {},
   "outputs": [
    {
     "name": "stdout",
     "output_type": "stream",
     "text": [
      "[[-0.55920734  0.69805956 -0.4472136 ]\n",
      " [ 0.          0.          0.        ]\n",
      " [-0.27960367  0.34902978  0.89442719]]\n"
     ]
    }
   ],
   "source": [
    "egv1 = egv\n",
    "egv1[1,] = 0\n",
    "print(egv1)"
   ]
  },
  {
   "cell_type": "markdown",
   "metadata": {},
   "source": [
    "# Now let us project y1 and y2"
   ]
  },
  {
   "cell_type": "code",
   "execution_count": 11,
   "metadata": {},
   "outputs": [
    {
     "name": "stdout",
     "output_type": "stream",
     "text": [
      "[0.3896982  0.         1.31288309] [-1.76199589  0.          2.47310402]\n"
     ]
    }
   ],
   "source": [
    "y1pp = np.dot(egv1, y1)\n",
    "y2pp = np.dot(egv1, y2)\n",
    "print(y1pp, y2pp)"
   ]
  },
  {
   "cell_type": "code",
   "execution_count": 12,
   "metadata": {},
   "outputs": [
    {
     "name": "stdout",
     "output_type": "stream",
     "text": [
      "2.4445654159683534\n"
     ]
    }
   ],
   "source": [
    "d3 = la.norm(y1pp-y2pp)\n",
    "print(d3)"
   ]
  },
  {
   "cell_type": "markdown",
   "metadata": {},
   "source": [
    "# So based on this we can see that dimensionality reduction is possible from three - two from the covariance matrix and find the eigen vectors (principal components). Ignore or assign zeros to the eigenvector corresponding to the least value. Then project the original data on new space and eliminate the values in the least eigenvector row. "
   ]
  },
  {
   "cell_type": "markdown",
   "metadata": {},
   "source": [
    "# Problem 2 a"
   ]
  },
  {
   "cell_type": "code",
   "execution_count": 13,
   "metadata": {},
   "outputs": [
    {
     "data": {
      "image/png": "[encoded data removed]",
      "text/plain": [
       "<Figure size 432x288 with 1 Axes>"
      ]
     },
     "metadata": {
      "needs_background": "light"
     },
     "output_type": "display_data"
    }
   ],
   "source": [
    "%matplotlib inline\n",
    "k1 = 1.0/np.sqrt(10*np.pi)\n",
    "k2 = 1.0/np.sqrt(2*np.pi)\n",
    "\n",
    "x = np.arange(-10,30,0.1)\n",
    "y1 = k1*np.exp((-x**2)/10)\n",
    "y2 = k2*np.exp((-(x-2)**2)/2)\n",
    "\n",
    "plt.plot(x, y1, 'blue', x, y2, 'red')\n",
    "plt.legend(['p(x|w1)', 'p(x|w2)'])\n",
    "plt.xlabel('y') \n",
    "plt.ylabel('p')\n",
    "plt.yticks(np.arange(0, 0.5, step=0.04))\n",
    "plt.show()"
   ]
  }
 ],
 "metadata": {
  "kernelspec": {
   "display_name": "Python 3",
   "language": "python",
   "name": "python3"
  },
  "language_info": {
   "codemirror_mode": {
    "name": "ipython",
    "version": 3
   },
   "file_extension": ".py",
   "mimetype": "text/x-python",
   "name": "python",
   "nbconvert_exporter": "python",
   "pygments_lexer": "ipython3",
   "version": "3.8.5"
  }
 },
 "nbformat": 4,
 "nbformat_minor": 4
}
